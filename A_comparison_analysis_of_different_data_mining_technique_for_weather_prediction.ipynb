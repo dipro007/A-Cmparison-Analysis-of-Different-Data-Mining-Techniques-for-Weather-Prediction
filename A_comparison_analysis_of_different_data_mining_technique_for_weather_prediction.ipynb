{
  "nbformat": 4,
  "nbformat_minor": 0,
  "metadata": {
    "colab": {
      "name": "A comparison analysis of different data mining technique for weather prediction.ipynb",
      "provenance": [],
      "collapsed_sections": []
    },
    "kernelspec": {
      "display_name": "Python 3",
      "name": "python3"
    }
  },
  "cells": [
    {
      "cell_type": "markdown",
      "metadata": {
        "id": "qk_BHSY2BvKG"
      },
      "source": [
        "#**Project Information :**\n",
        "\n",
        "\n",
        "####Name : Muhtasim Shafi Kader ,                       ID : 181-15-10809\n",
        "\n",
        "\n",
        "\n"
      ]
    },
    {
      "cell_type": "markdown",
      "metadata": {
        "id": "kKFYkfoJDYSy"
      },
      "source": [
        "**Project Description :**\n",
        "\n",
        "## I'm working on **A comparison analysis of different data mining technique for weather prediction**.\n",
        "Weather Status Prediction of Dhaka City with the help of some Data Mining techniques and Machine Learning Alogorthms to analyzing all weather informations including particular models\n",
        "\n",
        "Some Machine Learning algorithms have used to build models to predict weather status by analyzing Temperature ( °c), Wind (km/h), Gust (km/h), Rain (mm), Humidity (%), Pressure (mb) data."
      ]
    },
    {
      "cell_type": "markdown",
      "metadata": {
        "id": "oxf-pTpm0cmT"
      },
      "source": [
        "####*DataSet Mood: Private*\n",
        "\n",
        "####*DataSet Making Process:* Manually\n",
        "\n",
        "####*DataSet Description:* italicized text\n",
        "\n",
        "There are **Seven features** and **one Target Class**\n",
        "\n",
        "Target Class is containing the following **9** category ,\n",
        "\n",
        "  'Moderate Rain' = 0\n",
        "\n",
        "  'Thundershower' = 1\n",
        "\n",
        "  'Heavy Rain' = 2\n",
        "  \n",
        "  'Thunder Outbreaks Possible' = 3\n",
        "\n",
        "  'Cloudy' = 4\n",
        "\n",
        "  'Moderate or Heavy Rain' = 5\n",
        "\n",
        "  'Clear or Sunny' = 6\n",
        "\n",
        "  'Light Rain' = 7\n",
        "\n",
        "  'Partly Cloudy' = 8"
      ]
    },
    {
      "cell_type": "markdown",
      "metadata": {
        "id": "nUaNtNvo0Kgn"
      },
      "source": [
        "#####**Importing Necessary Packages**"
      ]
    },
    {
      "cell_type": "code",
      "metadata": {
        "id": "ebL1xAFkV18D"
      },
      "source": [
        "from sklearn.model_selection import train_test_split\n",
        "import seaborn as sns\n",
        "\n",
        "from sklearn.metrics import mean_absolute_error\n",
        "from sklearn.metrics import f1_score\n",
        "from sklearn.metrics import precision_score\n",
        "from sklearn.metrics import recall_score\n",
        "from sklearn.metrics import accuracy_score\n",
        "from sklearn.decomposition import PCA # for PCA calculation\n",
        "import plotly.express as px\n",
        "from sklearn.metrics import plot_confusion_matrix\n",
        "\n",
        "import numpy as np\n",
        "import pandas as pd\n",
        "import matplotlib.pyplot as plt\n",
        "import seaborn as sns\n",
        "\n",
        "from sklearn.model_selection import train_test_split, cross_val_score,KFold,StratifiedKFold, GridSearchCV\n",
        "from sklearn.metrics import confusion_matrix,accuracy_score,f1_score,average_precision_score,recall_score,roc_auc_score\n",
        "from sklearn.preprocessing import RobustScaler,StandardScaler,LabelEncoder,MinMaxScaler\n",
        "\n",
        "from sklearn.feature_selection import SelectKBest,chi2\n",
        "from sklearn import preprocessing\n",
        "\n",
        "from sklearn.metrics import roc_curve\n",
        "from sklearn.metrics import roc_auc_score\n",
        "from matplotlib import pyplot"
      ],
      "execution_count": null,
      "outputs": []
    },
    {
      "cell_type": "markdown",
      "metadata": {
        "id": "43CWyhy-I51L"
      },
      "source": [
        "#####**Import DataSet**"
      ]
    },
    {
      "cell_type": "code",
      "metadata": {
        "colab": {
          "resources": {
            "http://localhost:8080/nbextensions/google.colab/files.js": {
              "data": "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",
              "ok": true,
              "headers": [
                [
                  "content-type",
                  "application/javascript"
                ]
              ],
              "status": 200,
              "status_text": ""
            }
          },
          "base_uri": "https://localhost:8080/",
          "height": 72
        },
        "id": "P-P-YMT8I-ik",
        "outputId": "63cd9157-d7f7-4a5f-debe-3f62f8cba913"
      },
      "source": [
        "from google.colab import files \n",
        "uploaded = files.upload()"
      ],
      "execution_count": null,
      "outputs": [
        {
          "output_type": "display_data",
          "data": {
            "text/html": [
              "\n",
              "     <input type=\"file\" id=\"files-0ba0ced7-84ce-419a-83b4-1fc39c1e9dd8\" name=\"files[]\" multiple disabled\n",
              "        style=\"border:none\" />\n",
              "     <output id=\"result-0ba0ced7-84ce-419a-83b4-1fc39c1e9dd8\">\n",
              "      Upload widget is only available when the cell has been executed in the\n",
              "      current browser session. Please rerun this cell to enable.\n",
              "      </output>\n",
              "      <script src=\"/nbextensions/google.colab/files.js\"></script> "
            ],
            "text/plain": [
              "<IPython.core.display.HTML object>"
            ]
          },
          "metadata": {}
        },
        {
          "output_type": "stream",
          "name": "stdout",
          "text": [
            "Saving new1.xlsx to new1.xlsx\n"
          ]
        }
      ]
    },
    {
      "cell_type": "markdown",
      "metadata": {
        "id": "2slQNK9mJKJL"
      },
      "source": [
        "#####**Reading Imported DataSet**"
      ]
    },
    {
      "cell_type": "code",
      "metadata": {
        "id": "3hunvCSQJhAp",
        "colab": {
          "base_uri": "https://localhost:8080/",
          "height": 514
        },
        "outputId": "5d7aab1f-18cd-43ea-96ed-b2e2c6cce6db"
      },
      "source": [
        "df = pd.read_excel('new1.xlsx')\n",
        "df.head(15)\n"
      ],
      "execution_count": null,
      "outputs": [
        {
          "output_type": "execute_result",
          "data": {
            "text/html": [
              "<div>\n",
              "<style scoped>\n",
              "    .dataframe tbody tr th:only-of-type {\n",
              "        vertical-align: middle;\n",
              "    }\n",
              "\n",
              "    .dataframe tbody tr th {\n",
              "        vertical-align: top;\n",
              "    }\n",
              "\n",
              "    .dataframe thead th {\n",
              "        text-align: right;\n",
              "    }\n",
              "</style>\n",
              "<table border=\"1\" class=\"dataframe\">\n",
              "  <thead>\n",
              "    <tr style=\"text-align: right;\">\n",
              "      <th></th>\n",
              "      <th>Temperature ( °c)</th>\n",
              "      <th>Wind (km/h)</th>\n",
              "      <th>Gust (km/h)</th>\n",
              "      <th>Rain (mm)</th>\n",
              "      <th>Humidity (%)</th>\n",
              "      <th>Pressure (mb)</th>\n",
              "      <th>Status</th>\n",
              "    </tr>\n",
              "  </thead>\n",
              "  <tbody>\n",
              "    <tr>\n",
              "      <th>0</th>\n",
              "      <td>21.0</td>\n",
              "      <td>7</td>\n",
              "      <td>13</td>\n",
              "      <td>0.0</td>\n",
              "      <td>54</td>\n",
              "      <td>1016</td>\n",
              "      <td>Partly Cloudy</td>\n",
              "    </tr>\n",
              "    <tr>\n",
              "      <th>1</th>\n",
              "      <td>20.0</td>\n",
              "      <td>9</td>\n",
              "      <td>16</td>\n",
              "      <td>0.0</td>\n",
              "      <td>58</td>\n",
              "      <td>1016</td>\n",
              "      <td>Partly Cloudy</td>\n",
              "    </tr>\n",
              "    <tr>\n",
              "      <th>2</th>\n",
              "      <td>19.0</td>\n",
              "      <td>9</td>\n",
              "      <td>15</td>\n",
              "      <td>0.0</td>\n",
              "      <td>64</td>\n",
              "      <td>1016</td>\n",
              "      <td>Partly Cloudy</td>\n",
              "    </tr>\n",
              "    <tr>\n",
              "      <th>3</th>\n",
              "      <td>24.0</td>\n",
              "      <td>5</td>\n",
              "      <td>6</td>\n",
              "      <td>0.0</td>\n",
              "      <td>56</td>\n",
              "      <td>1020</td>\n",
              "      <td>Partly Cloudy</td>\n",
              "    </tr>\n",
              "    <tr>\n",
              "      <th>4</th>\n",
              "      <td>28.0</td>\n",
              "      <td>6</td>\n",
              "      <td>6</td>\n",
              "      <td>0.0</td>\n",
              "      <td>56</td>\n",
              "      <td>1019</td>\n",
              "      <td>Partly Cloudy</td>\n",
              "    </tr>\n",
              "    <tr>\n",
              "      <th>5</th>\n",
              "      <td>30.0</td>\n",
              "      <td>8</td>\n",
              "      <td>9</td>\n",
              "      <td>0.0</td>\n",
              "      <td>39</td>\n",
              "      <td>1016</td>\n",
              "      <td>Partly Cloudy</td>\n",
              "    </tr>\n",
              "    <tr>\n",
              "      <th>6</th>\n",
              "      <td>26.0</td>\n",
              "      <td>9</td>\n",
              "      <td>15</td>\n",
              "      <td>0.0</td>\n",
              "      <td>49</td>\n",
              "      <td>1016</td>\n",
              "      <td>Partly Cloudy</td>\n",
              "    </tr>\n",
              "    <tr>\n",
              "      <th>7</th>\n",
              "      <td>24.0</td>\n",
              "      <td>9</td>\n",
              "      <td>14</td>\n",
              "      <td>0.0</td>\n",
              "      <td>57</td>\n",
              "      <td>1018</td>\n",
              "      <td>Partly Cloudy</td>\n",
              "    </tr>\n",
              "    <tr>\n",
              "      <th>8</th>\n",
              "      <td>22.0</td>\n",
              "      <td>6</td>\n",
              "      <td>9</td>\n",
              "      <td>0.0</td>\n",
              "      <td>65</td>\n",
              "      <td>1019</td>\n",
              "      <td>Partly Cloudy</td>\n",
              "    </tr>\n",
              "    <tr>\n",
              "      <th>9</th>\n",
              "      <td>21.0</td>\n",
              "      <td>9</td>\n",
              "      <td>14</td>\n",
              "      <td>0.0</td>\n",
              "      <td>71</td>\n",
              "      <td>1019</td>\n",
              "      <td>Partly Cloudy</td>\n",
              "    </tr>\n",
              "    <tr>\n",
              "      <th>10</th>\n",
              "      <td>19.0</td>\n",
              "      <td>14</td>\n",
              "      <td>23</td>\n",
              "      <td>0.0</td>\n",
              "      <td>72</td>\n",
              "      <td>1019</td>\n",
              "      <td>Partly Cloudy</td>\n",
              "    </tr>\n",
              "    <tr>\n",
              "      <th>11</th>\n",
              "      <td>22.0</td>\n",
              "      <td>10</td>\n",
              "      <td>12</td>\n",
              "      <td>0.0</td>\n",
              "      <td>68</td>\n",
              "      <td>1021</td>\n",
              "      <td>Partly Cloudy</td>\n",
              "    </tr>\n",
              "    <tr>\n",
              "      <th>12</th>\n",
              "      <td>27.0</td>\n",
              "      <td>12</td>\n",
              "      <td>13</td>\n",
              "      <td>0.0</td>\n",
              "      <td>50</td>\n",
              "      <td>1019</td>\n",
              "      <td>Partly Cloudy</td>\n",
              "    </tr>\n",
              "    <tr>\n",
              "      <th>13</th>\n",
              "      <td>29.0</td>\n",
              "      <td>5</td>\n",
              "      <td>6</td>\n",
              "      <td>0.0</td>\n",
              "      <td>40</td>\n",
              "      <td>1016</td>\n",
              "      <td>Partly Cloudy</td>\n",
              "    </tr>\n",
              "    <tr>\n",
              "      <th>14</th>\n",
              "      <td>26.0</td>\n",
              "      <td>4</td>\n",
              "      <td>7</td>\n",
              "      <td>0.0</td>\n",
              "      <td>50</td>\n",
              "      <td>1017</td>\n",
              "      <td>Partly Cloudy</td>\n",
              "    </tr>\n",
              "  </tbody>\n",
              "</table>\n",
              "</div>"
            ],
            "text/plain": [
              "    Temperature ( °c)  Wind (km/h)  ...  Pressure (mb)         Status\n",
              "0                21.0            7  ...           1016  Partly Cloudy\n",
              "1                20.0            9  ...           1016  Partly Cloudy\n",
              "2                19.0            9  ...           1016  Partly Cloudy\n",
              "3                24.0            5  ...           1020  Partly Cloudy\n",
              "4                28.0            6  ...           1019  Partly Cloudy\n",
              "5                30.0            8  ...           1016  Partly Cloudy\n",
              "6                26.0            9  ...           1016  Partly Cloudy\n",
              "7                24.0            9  ...           1018  Partly Cloudy\n",
              "8                22.0            6  ...           1019  Partly Cloudy\n",
              "9                21.0            9  ...           1019  Partly Cloudy\n",
              "10               19.0           14  ...           1019  Partly Cloudy\n",
              "11               22.0           10  ...           1021  Partly Cloudy\n",
              "12               27.0           12  ...           1019  Partly Cloudy\n",
              "13               29.0            5  ...           1016  Partly Cloudy\n",
              "14               26.0            4  ...           1017  Partly Cloudy\n",
              "\n",
              "[15 rows x 7 columns]"
            ]
          },
          "metadata": {},
          "execution_count": 5
        }
      ]
    },
    {
      "cell_type": "markdown",
      "metadata": {
        "id": "QMYp7BE1sZgV"
      },
      "source": [
        "####**Detarming DataTypes of all informations**"
      ]
    },
    {
      "cell_type": "code",
      "metadata": {
        "colab": {
          "base_uri": "https://localhost:8080/"
        },
        "id": "YiwHvih2VBoW",
        "outputId": "1602f5ca-cc8f-4964-d650-4a80db89ea8a"
      },
      "source": [
        "df.shape()"
      ],
      "execution_count": null,
      "outputs": [
        {
          "output_type": "execute_result",
          "data": {
            "text/plain": [
              "(2192, 7)"
            ]
          },
          "metadata": {
            "tags": []
          },
          "execution_count": 14
        }
      ]
    },
    {
      "cell_type": "code",
      "metadata": {
        "colab": {
          "base_uri": "https://localhost:8080/",
          "height": 297
        },
        "id": "IS7sSPNkVJy_",
        "outputId": "4b45e4e9-89ac-4ee5-be0f-5d74700088b1"
      },
      "source": [
        "df.describe()"
      ],
      "execution_count": null,
      "outputs": [
        {
          "output_type": "execute_result",
          "data": {
            "text/html": [
              "<div>\n",
              "<style scoped>\n",
              "    .dataframe tbody tr th:only-of-type {\n",
              "        vertical-align: middle;\n",
              "    }\n",
              "\n",
              "    .dataframe tbody tr th {\n",
              "        vertical-align: top;\n",
              "    }\n",
              "\n",
              "    .dataframe thead th {\n",
              "        text-align: right;\n",
              "    }\n",
              "</style>\n",
              "<table border=\"1\" class=\"dataframe\">\n",
              "  <thead>\n",
              "    <tr style=\"text-align: right;\">\n",
              "      <th></th>\n",
              "      <th>Temperature ( °c)</th>\n",
              "      <th>Wind (km/h)</th>\n",
              "      <th>Gust (km/h)</th>\n",
              "      <th>Rain (mm)</th>\n",
              "      <th>Humidity (%)</th>\n",
              "      <th>Pressure (mb)</th>\n",
              "    </tr>\n",
              "  </thead>\n",
              "  <tbody>\n",
              "    <tr>\n",
              "      <th>count</th>\n",
              "      <td>2192.000000</td>\n",
              "      <td>2192.000000</td>\n",
              "      <td>2192.000000</td>\n",
              "      <td>2192.000000</td>\n",
              "      <td>2192.000000</td>\n",
              "      <td>2192.00000</td>\n",
              "    </tr>\n",
              "    <tr>\n",
              "      <th>mean</th>\n",
              "      <td>28.946305</td>\n",
              "      <td>13.343522</td>\n",
              "      <td>18.919252</td>\n",
              "      <td>0.927737</td>\n",
              "      <td>60.120894</td>\n",
              "      <td>1008.11177</td>\n",
              "    </tr>\n",
              "    <tr>\n",
              "      <th>std</th>\n",
              "      <td>4.775860</td>\n",
              "      <td>7.842421</td>\n",
              "      <td>10.989658</td>\n",
              "      <td>2.534902</td>\n",
              "      <td>19.337958</td>\n",
              "      <td>197.24348</td>\n",
              "    </tr>\n",
              "    <tr>\n",
              "      <th>min</th>\n",
              "      <td>3.300000</td>\n",
              "      <td>0.000000</td>\n",
              "      <td>0.000000</td>\n",
              "      <td>0.000000</td>\n",
              "      <td>9.000000</td>\n",
              "      <td>98.00000</td>\n",
              "    </tr>\n",
              "    <tr>\n",
              "      <th>25%</th>\n",
              "      <td>27.000000</td>\n",
              "      <td>8.000000</td>\n",
              "      <td>11.000000</td>\n",
              "      <td>0.000000</td>\n",
              "      <td>45.000000</td>\n",
              "      <td>1002.00000</td>\n",
              "    </tr>\n",
              "    <tr>\n",
              "      <th>50%</th>\n",
              "      <td>29.000000</td>\n",
              "      <td>13.000000</td>\n",
              "      <td>17.000000</td>\n",
              "      <td>0.000000</td>\n",
              "      <td>62.000000</td>\n",
              "      <td>1005.00000</td>\n",
              "    </tr>\n",
              "    <tr>\n",
              "      <th>75%</th>\n",
              "      <td>32.000000</td>\n",
              "      <td>17.000000</td>\n",
              "      <td>25.000000</td>\n",
              "      <td>0.600000</td>\n",
              "      <td>77.000000</td>\n",
              "      <td>1011.00000</td>\n",
              "    </tr>\n",
              "    <tr>\n",
              "      <th>max</th>\n",
              "      <td>43.000000</td>\n",
              "      <td>174.000000</td>\n",
              "      <td>145.000000</td>\n",
              "      <td>59.700000</td>\n",
              "      <td>92.000000</td>\n",
              "      <td>10011.00000</td>\n",
              "    </tr>\n",
              "  </tbody>\n",
              "</table>\n",
              "</div>"
            ],
            "text/plain": [
              "       Temperature ( °c)  Wind (km/h)  ...  Humidity (%)  Pressure (mb)\n",
              "count        2192.000000  2192.000000  ...   2192.000000     2192.00000\n",
              "mean           28.946305    13.343522  ...     60.120894     1008.11177\n",
              "std             4.775860     7.842421  ...     19.337958      197.24348\n",
              "min             3.300000     0.000000  ...      9.000000       98.00000\n",
              "25%            27.000000     8.000000  ...     45.000000     1002.00000\n",
              "50%            29.000000    13.000000  ...     62.000000     1005.00000\n",
              "75%            32.000000    17.000000  ...     77.000000     1011.00000\n",
              "max            43.000000   174.000000  ...     92.000000    10011.00000\n",
              "\n",
              "[8 rows x 6 columns]"
            ]
          },
          "metadata": {
            "tags": []
          },
          "execution_count": 15
        }
      ]
    },
    {
      "cell_type": "code",
      "metadata": {
        "colab": {
          "base_uri": "https://localhost:8080/",
          "height": 235
        },
        "id": "c3gBXxoOVRL5",
        "outputId": "3b017a75-0e93-4c5a-edcb-4781f5d3215c"
      },
      "source": [
        "df.corr()"
      ],
      "execution_count": null,
      "outputs": [
        {
          "output_type": "execute_result",
          "data": {
            "text/html": [
              "<div>\n",
              "<style scoped>\n",
              "    .dataframe tbody tr th:only-of-type {\n",
              "        vertical-align: middle;\n",
              "    }\n",
              "\n",
              "    .dataframe tbody tr th {\n",
              "        vertical-align: top;\n",
              "    }\n",
              "\n",
              "    .dataframe thead th {\n",
              "        text-align: right;\n",
              "    }\n",
              "</style>\n",
              "<table border=\"1\" class=\"dataframe\">\n",
              "  <thead>\n",
              "    <tr style=\"text-align: right;\">\n",
              "      <th></th>\n",
              "      <th>Temperature ( °c)</th>\n",
              "      <th>Wind (km/h)</th>\n",
              "      <th>Gust (km/h)</th>\n",
              "      <th>Rain (mm)</th>\n",
              "      <th>Humidity (%)</th>\n",
              "      <th>Pressure (mb)</th>\n",
              "    </tr>\n",
              "  </thead>\n",
              "  <tbody>\n",
              "    <tr>\n",
              "      <th>Temperature ( °c)</th>\n",
              "      <td>1.000000</td>\n",
              "      <td>0.256988</td>\n",
              "      <td>0.209174</td>\n",
              "      <td>0.068339</td>\n",
              "      <td>-0.215620</td>\n",
              "      <td>-0.064240</td>\n",
              "    </tr>\n",
              "    <tr>\n",
              "      <th>Wind (km/h)</th>\n",
              "      <td>0.256988</td>\n",
              "      <td>1.000000</td>\n",
              "      <td>0.790451</td>\n",
              "      <td>0.181984</td>\n",
              "      <td>0.296561</td>\n",
              "      <td>-0.020498</td>\n",
              "    </tr>\n",
              "    <tr>\n",
              "      <th>Gust (km/h)</th>\n",
              "      <td>0.209174</td>\n",
              "      <td>0.790451</td>\n",
              "      <td>1.000000</td>\n",
              "      <td>0.358197</td>\n",
              "      <td>0.408567</td>\n",
              "      <td>-0.014627</td>\n",
              "    </tr>\n",
              "    <tr>\n",
              "      <th>Rain (mm)</th>\n",
              "      <td>0.068339</td>\n",
              "      <td>0.181984</td>\n",
              "      <td>0.358197</td>\n",
              "      <td>1.000000</td>\n",
              "      <td>0.275989</td>\n",
              "      <td>-0.013177</td>\n",
              "    </tr>\n",
              "    <tr>\n",
              "      <th>Humidity (%)</th>\n",
              "      <td>-0.215620</td>\n",
              "      <td>0.296561</td>\n",
              "      <td>0.408567</td>\n",
              "      <td>0.275989</td>\n",
              "      <td>1.000000</td>\n",
              "      <td>-0.020672</td>\n",
              "    </tr>\n",
              "    <tr>\n",
              "      <th>Pressure (mb)</th>\n",
              "      <td>-0.064240</td>\n",
              "      <td>-0.020498</td>\n",
              "      <td>-0.014627</td>\n",
              "      <td>-0.013177</td>\n",
              "      <td>-0.020672</td>\n",
              "      <td>1.000000</td>\n",
              "    </tr>\n",
              "  </tbody>\n",
              "</table>\n",
              "</div>"
            ],
            "text/plain": [
              "                   Temperature ( °c)  Wind (km/h)  ...  Humidity (%)  Pressure (mb)\n",
              "Temperature ( °c)           1.000000     0.256988  ...     -0.215620      -0.064240\n",
              "Wind (km/h)                 0.256988     1.000000  ...      0.296561      -0.020498\n",
              "Gust (km/h)                 0.209174     0.790451  ...      0.408567      -0.014627\n",
              "Rain (mm)                   0.068339     0.181984  ...      0.275989      -0.013177\n",
              "Humidity (%)               -0.215620     0.296561  ...      1.000000      -0.020672\n",
              "Pressure (mb)              -0.064240    -0.020498  ...     -0.020672       1.000000\n",
              "\n",
              "[6 rows x 6 columns]"
            ]
          },
          "metadata": {
            "tags": []
          },
          "execution_count": 17
        }
      ]
    },
    {
      "cell_type": "code",
      "metadata": {
        "id": "PlRHEZiACPZB"
      },
      "source": [
        "nullValueCheck = pd.notnull(df) \n",
        "df[nullValueCheck]   "
      ],
      "execution_count": null,
      "outputs": []
    },
    {
      "cell_type": "markdown",
      "metadata": {
        "id": "IEvdLtucd3-b"
      },
      "source": [
        "####**Visulalization**"
      ]
    },
    {
      "cell_type": "code",
      "metadata": {
        "colab": {
          "base_uri": "https://localhost:8080/",
          "height": 884
        },
        "id": "6FU72IPMVZIo",
        "outputId": "e396e271-41ac-4da1-c9ff-2699d237f49f"
      },
      "source": [
        "corr = df.corr()\n",
        "f,ax = plt.subplots(figsize=(15, 15))\n",
        "sns.heatmap(corr, annot=True, linewidths=.5, fmt= '.1f',ax=ax)"
      ],
      "execution_count": null,
      "outputs": [
        {
          "output_type": "execute_result",
          "data": {
            "text/plain": [
              "<matplotlib.axes._subplots.AxesSubplot at 0x7f35de9a0950>"
            ]
          },
          "metadata": {
            "tags": []
          },
          "execution_count": 21
        },
        {
          "output_type": "display_data",
          "data": {
            "image/png": "[encoded data removed]",
            "text/plain": [
              "<Figure size 1080x1080 with 2 Axes>"
            ]
          },
          "metadata": {
            "tags": [],
            "needs_background": "light"
          }
        }
      ]
    },
    {
      "cell_type": "code",
      "metadata": {
        "colab": {
          "base_uri": "https://localhost:8080/"
        },
        "id": "5HqjmY3csjcH",
        "outputId": "ad4d5b53-3af9-48f0-b864-4f169aefaeec"
      },
      "source": [
        "df['Pressure (mb)'].dtypes\n"
      ],
      "execution_count": null,
      "outputs": [
        {
          "output_type": "execute_result",
          "data": {
            "text/plain": [
              "dtype('int64')"
            ]
          },
          "metadata": {},
          "execution_count": 30
        }
      ]
    },
    {
      "cell_type": "markdown",
      "metadata": {
        "id": "eTLXtTFUJme0"
      },
      "source": [
        "#####**Checking the Datatypes**"
      ]
    },
    {
      "cell_type": "code",
      "metadata": {
        "colab": {
          "base_uri": "https://localhost:8080/"
        },
        "id": "1vRBdX6Vff2y",
        "outputId": "20cccba9-5386-4176-99f6-6ab176754906"
      },
      "source": [
        "df.info()"
      ],
      "execution_count": null,
      "outputs": [
        {
          "output_type": "stream",
          "name": "stdout",
          "text": [
            "<class 'pandas.core.frame.DataFrame'>\n",
            "RangeIndex: 2192 entries, 0 to 2191\n",
            "Data columns (total 7 columns):\n",
            " #   Column             Non-Null Count  Dtype  \n",
            "---  ------             --------------  -----  \n",
            " 0   Temperature ( °c)  2192 non-null   float64\n",
            " 1   Wind (km/h)        2192 non-null   int64  \n",
            " 2   Gust (km/h)        2192 non-null   int64  \n",
            " 3   Rain (mm)          2192 non-null   float64\n",
            " 4   Humidity (%)       2192 non-null   int64  \n",
            " 5   Pressure (mb)      2192 non-null   int64  \n",
            " 6   Status             2192 non-null   object \n",
            "dtypes: float64(2), int64(4), object(1)\n",
            "memory usage: 120.0+ KB\n"
          ]
        }
      ]
    },
    {
      "cell_type": "markdown",
      "metadata": {
        "id": "HLhj14fRJvtw"
      },
      "source": [
        "#####**Determining Attributes and Labels from DataSet**"
      ]
    },
    {
      "cell_type": "code",
      "metadata": {
        "id": "Bkz4PwAAKMBb"
      },
      "source": [
        "X = df.iloc[ : ,  : -1].values\n",
        "y = df.iloc[ : , -1].values"
      ],
      "execution_count": null,
      "outputs": []
    },
    {
      "cell_type": "markdown",
      "metadata": {
        "id": "0LQ9vLrDKRpP"
      },
      "source": [
        "#####**Spliting the DataSet into TrainSet & TestSet**\n",
        "\n",
        "\n",
        "\n",
        "#####TrainSet Size: **80%**\n",
        "\n",
        "#####TestSet Size: **20%**"
      ]
    },
    {
      "cell_type": "code",
      "metadata": {
        "id": "HJpxXiHXKhOd"
      },
      "source": [
        "from sklearn.model_selection import train_test_split\n",
        "X_train, X_test, y_train, y_test = train_test_split(X, y, test_size = 0.20, random_state = 21)"
      ],
      "execution_count": null,
      "outputs": []
    },
    {
      "cell_type": "markdown",
      "metadata": {
        "id": "Upu_AsRFrncX"
      },
      "source": [
        "#####**Scaling The features**"
      ]
    },
    {
      "cell_type": "code",
      "metadata": {
        "id": "0ARmlTf8LsU5"
      },
      "source": [
        "from sklearn.preprocessing import StandardScaler\n",
        "scaler = StandardScaler()\n",
        "scaler.fit(X_train,)\n",
        "\n",
        "X_train = scaler.transform(X_train)\n",
        "X_test = scaler.transform(X_test)"
      ],
      "execution_count": null,
      "outputs": []
    },
    {
      "cell_type": "markdown",
      "metadata": {
        "id": "Y2dAOtz3L2A2"
      },
      "source": [
        "#####**Traing & Predicting Using KNN** ML Algo Start"
      ]
    },
    {
      "cell_type": "code",
      "metadata": {
        "id": "ofGD6x3wMJMX"
      },
      "source": [
        "from sklearn.neighbors import KNeighborsClassifier\n",
        "\n",
        "knn = KNeighborsClassifier(n_neighbors = 10)\n",
        "knn.fit(X_train, y_train)\n",
        "\n",
        "y_pred = knn.predict(X_test)"
      ],
      "execution_count": null,
      "outputs": []
    },
    {
      "cell_type": "markdown",
      "metadata": {
        "id": "3LFZWhFAMe1_"
      },
      "source": [
        "#####**Evaluating KNN**"
      ]
    },
    {
      "cell_type": "code",
      "metadata": {
        "colab": {
          "base_uri": "https://localhost:8080/"
        },
        "id": "jtN0v0EIMrFX",
        "outputId": "817711ff-c6f7-4e6d-aa98-11d6646a3ab8"
      },
      "source": [
        "from sklearn.metrics import classification_report, confusion_matrix\n",
        "print(confusion_matrix(y_test, y_pred))\n",
        "print(classification_report(y_test, y_pred))"
      ],
      "execution_count": null,
      "outputs": [
        {
          "output_type": "stream",
          "name": "stdout",
          "text": [
            "[[ 17   1   0   1   0   0  30   0   0]\n",
            " [  1   9   0   3   0   0  13   0   0]\n",
            " [  0   0   8   0   0   2   0   0   0]\n",
            " [  2   5   0  79   0   0  30   0   1]\n",
            " [  0   0   0   1   0   1   0   0   0]\n",
            " [  0   0   0   3   0  37   0   0   0]\n",
            " [ 18   3   0  11   0   0 146   0   0]\n",
            " [  1   0   0   2   0   0   4   0   1]\n",
            " [  0   2   0   2   0   0   5   0   0]]\n",
            "                             precision    recall  f1-score   support\n",
            "\n",
            "             Clear or Sunny       0.44      0.35      0.39        49\n",
            "                     Cloudy       0.45      0.35      0.39        26\n",
            "                 Heavy Rain       1.00      0.80      0.89        10\n",
            "                 Light Rain       0.77      0.68      0.72       117\n",
            "              Moderate Rain       0.00      0.00      0.00         2\n",
            "     Moderate or Heavy Rain       0.93      0.93      0.93        40\n",
            "              Partly Cloudy       0.64      0.82      0.72       178\n",
            "              Thundershower       0.00      0.00      0.00         8\n",
            "Thundery Outbreaks Possible       0.00      0.00      0.00         9\n",
            "\n",
            "                   accuracy                           0.67       439\n",
            "                  macro avg       0.47      0.43      0.45       439\n",
            "               weighted avg       0.65      0.67      0.65       439\n",
            "\n"
          ]
        },
        {
          "output_type": "stream",
          "name": "stderr",
          "text": [
            "/usr/local/lib/python3.7/dist-packages/sklearn/metrics/_classification.py:1272: UndefinedMetricWarning:\n",
            "\n",
            "Precision and F-score are ill-defined and being set to 0.0 in labels with no predicted samples. Use `zero_division` parameter to control this behavior.\n",
            "\n"
          ]
        }
      ]
    },
    {
      "cell_type": "markdown",
      "metadata": {
        "id": "cmMolfbKNBfY"
      },
      "source": [
        "#####**Traing & Predicting Using Decision Tree Classifier**"
      ]
    },
    {
      "cell_type": "code",
      "metadata": {
        "id": "X3w1l8FrNZaO"
      },
      "source": [
        "from sklearn.tree import DecisionTreeClassifier\n",
        "\n",
        "dtree = DecisionTreeClassifier(criterion='entropy')\n",
        "dtree.fit(X_train, y_train)\n",
        "\n",
        "y_pred = dtree.predict(X_test)"
      ],
      "execution_count": null,
      "outputs": []
    },
    {
      "cell_type": "markdown",
      "metadata": {
        "id": "oS2AxUqqN2IW"
      },
      "source": [
        "#####**Evaluating Decision Tree**"
      ]
    },
    {
      "cell_type": "code",
      "metadata": {
        "colab": {
          "base_uri": "https://localhost:8080/"
        },
        "id": "JgqwjcneN6mj",
        "outputId": "d8dd54b6-9622-4393-e2dc-0436a76d4fdc"
      },
      "source": [
        "from sklearn.metrics import classification_report, confusion_matrix\n",
        "print(confusion_matrix(y_test, y_pred))\n",
        "print(classification_report(y_test, y_pred))"
      ],
      "execution_count": null,
      "outputs": [
        {
          "output_type": "stream",
          "name": "stdout",
          "text": [
            "[[ 24   2   0   0   0   0  23   0   0]\n",
            " [  0  13   0   0   0   0  12   0   1]\n",
            " [  0   0   9   1   0   0   0   0   0]\n",
            " [  0   0   0 108   4   0   1   3   1]\n",
            " [  0   0   0   1   0   1   0   0   0]\n",
            " [  0   0   0   0   1  39   0   0   0]\n",
            " [ 26  12   0   2   0   0 131   0   7]\n",
            " [  0   0   0   6   1   0   0   1   0]\n",
            " [  0   1   0   2   0   0   5   0   1]]\n",
            "                             precision    recall  f1-score   support\n",
            "\n",
            "             Clear or Sunny       0.48      0.49      0.48        49\n",
            "                     Cloudy       0.46      0.50      0.48        26\n",
            "                 Heavy Rain       1.00      0.90      0.95        10\n",
            "                 Light Rain       0.90      0.92      0.91       117\n",
            "              Moderate Rain       0.00      0.00      0.00         2\n",
            "     Moderate or Heavy Rain       0.97      0.97      0.97        40\n",
            "              Partly Cloudy       0.76      0.74      0.75       178\n",
            "              Thundershower       0.25      0.12      0.17         8\n",
            "Thundery Outbreaks Possible       0.10      0.11      0.11         9\n",
            "\n",
            "                   accuracy                           0.74       439\n",
            "                  macro avg       0.55      0.53      0.54       439\n",
            "               weighted avg       0.75      0.74      0.74       439\n",
            "\n"
          ]
        }
      ]
    },
    {
      "cell_type": "markdown",
      "metadata": {
        "id": "lSv-1uP1Pyxt"
      },
      "source": [
        "#####**Training & Predicting Using RandomForest Classifier**"
      ]
    },
    {
      "cell_type": "code",
      "metadata": {
        "id": "VK5MIN1QQY8F"
      },
      "source": [
        "from sklearn.ensemble import RandomForestClassifier\n",
        "\n",
        "rf = RandomForestClassifier()\n",
        "rf.fit(X_train, y_train)\n",
        "\n",
        "y_pred = rf.predict(X_test)"
      ],
      "execution_count": null,
      "outputs": []
    },
    {
      "cell_type": "markdown",
      "metadata": {
        "id": "IRVT4nvHQszt"
      },
      "source": [
        "#####**Evaluating RandomForest**"
      ]
    },
    {
      "cell_type": "code",
      "metadata": {
        "colab": {
          "base_uri": "https://localhost:8080/"
        },
        "id": "KffFjt7nQ1Fu",
        "outputId": "01abef65-6d18-46bb-c705-130b7ef9a39e"
      },
      "source": [
        "from sklearn.metrics import classification_report, confusion_matrix\n",
        "print(confusion_matrix(y_test, y_pred))\n",
        "print(classification_report(y_test, y_pred))"
      ],
      "execution_count": null,
      "outputs": [
        {
          "output_type": "stream",
          "name": "stdout",
          "text": [
            "[[ 14   0   0   0   0   0  35   0   0]\n",
            " [  0  12   0   0   0   0  14   0   0]\n",
            " [  0   0   9   1   0   0   0   0   0]\n",
            " [  0   0   0 115   0   0   1   1   0]\n",
            " [  0   0   0   1   0   1   0   0   0]\n",
            " [  0   0   0   0   0  40   0   0   0]\n",
            " [ 11   3   0   0   0   0 164   0   0]\n",
            " [  0   0   0   8   0   0   0   0   0]\n",
            " [  0   0   0   3   0   0   6   0   0]]\n",
            "                             precision    recall  f1-score   support\n",
            "\n",
            "             Clear or Sunny       0.56      0.29      0.38        49\n",
            "                     Cloudy       0.80      0.46      0.59        26\n",
            "                 Heavy Rain       1.00      0.90      0.95        10\n",
            "                 Light Rain       0.90      0.98      0.94       117\n",
            "              Moderate Rain       0.00      0.00      0.00         2\n",
            "     Moderate or Heavy Rain       0.98      1.00      0.99        40\n",
            "              Partly Cloudy       0.75      0.92      0.82       178\n",
            "              Thundershower       0.00      0.00      0.00         8\n",
            "Thundery Outbreaks Possible       0.00      0.00      0.00         9\n",
            "\n",
            "                   accuracy                           0.81       439\n",
            "                  macro avg       0.55      0.51      0.52       439\n",
            "               weighted avg       0.76      0.81      0.77       439\n",
            "\n"
          ]
        },
        {
          "output_type": "stream",
          "name": "stderr",
          "text": [
            "/usr/local/lib/python3.7/dist-packages/sklearn/metrics/_classification.py:1272: UndefinedMetricWarning:\n",
            "\n",
            "Precision and F-score are ill-defined and being set to 0.0 in labels with no predicted samples. Use `zero_division` parameter to control this behavior.\n",
            "\n"
          ]
        }
      ]
    },
    {
      "cell_type": "markdown",
      "metadata": {
        "id": "FJ0EUZi3R_8O"
      },
      "source": [
        "#####**Training & Predicting Using Gradient Boosting Classifier**"
      ]
    },
    {
      "cell_type": "code",
      "metadata": {
        "id": "cCDzpyUySD3_"
      },
      "source": [
        "from sklearn.ensemble import GradientBoostingClassifier\n",
        "\n",
        "gb = GradientBoostingClassifier()\n",
        "\n",
        "gb.fit(X_train, y_train)\n",
        "\n",
        "y_pred = gb.predict(X_test)"
      ],
      "execution_count": null,
      "outputs": []
    },
    {
      "cell_type": "markdown",
      "metadata": {
        "id": "R97D1eqHSXwO"
      },
      "source": [
        "#####**Evaluating Gradient Boosting**"
      ]
    },
    {
      "cell_type": "code",
      "metadata": {
        "colab": {
          "base_uri": "https://localhost:8080/"
        },
        "id": "yERNShXRScj5",
        "outputId": "41ffc892-6fb3-45f1-9827-83fe1368454f"
      },
      "source": [
        "from sklearn.metrics import classification_report, confusion_matrix\n",
        "print(confusion_matrix(y_test, y_pred))\n",
        "print(classification_report(y_test, y_pred))"
      ],
      "execution_count": null,
      "outputs": [
        {
          "output_type": "stream",
          "name": "stdout",
          "text": [
            "[[ 17   0   0   0   0   0  32   0   0]\n",
            " [  0   9   0   0   0   0  17   0   0]\n",
            " [  0   0   9   1   0   0   0   0   0]\n",
            " [  0   0   0 114   1   1   1   0   0]\n",
            " [  0   0   0   1   0   1   0   0   0]\n",
            " [  0   0   0   0   1  39   0   0   0]\n",
            " [ 14   4   0   0   0   0 158   0   2]\n",
            " [  0   0   0   7   1   0   0   0   0]\n",
            " [  0   0   0   3   0   0   5   0   1]]\n",
            "                             precision    recall  f1-score   support\n",
            "\n",
            "             Clear or Sunny       0.55      0.35      0.42        49\n",
            "                     Cloudy       0.69      0.35      0.46        26\n",
            "                 Heavy Rain       1.00      0.90      0.95        10\n",
            "                 Light Rain       0.90      0.97      0.94       117\n",
            "              Moderate Rain       0.00      0.00      0.00         2\n",
            "     Moderate or Heavy Rain       0.95      0.97      0.96        40\n",
            "              Partly Cloudy       0.74      0.89      0.81       178\n",
            "              Thundershower       0.00      0.00      0.00         8\n",
            "Thundery Outbreaks Possible       0.33      0.11      0.17         9\n",
            "\n",
            "                   accuracy                           0.79       439\n",
            "                  macro avg       0.57      0.50      0.52       439\n",
            "               weighted avg       0.76      0.79      0.77       439\n",
            "\n"
          ]
        },
        {
          "output_type": "stream",
          "name": "stderr",
          "text": [
            "/usr/local/lib/python3.7/dist-packages/sklearn/metrics/_classification.py:1272: UndefinedMetricWarning:\n",
            "\n",
            "Precision and F-score are ill-defined and being set to 0.0 in labels with no predicted samples. Use `zero_division` parameter to control this behavior.\n",
            "\n"
          ]
        }
      ]
    },
    {
      "cell_type": "markdown",
      "metadata": {
        "id": "jeh7i02JSjsA"
      },
      "source": [
        "#####**Training & Predicting Using Support Vector Machine Classifier**"
      ]
    },
    {
      "cell_type": "code",
      "metadata": {
        "id": "xkmNhW0hTTVY"
      },
      "source": [
        "from sklearn.svm import SVC\n",
        "\n",
        "svm = SVC(kernel = 'linear')\n",
        "\n",
        "svm.fit(X_train, y_train)\n",
        "\n",
        "y_pred = svm.predict(X_test)"
      ],
      "execution_count": null,
      "outputs": []
    },
    {
      "cell_type": "markdown",
      "metadata": {
        "id": "ATs7BCEpTpDg"
      },
      "source": [
        "#####**Evaluating Support Vector Machine**"
      ]
    },
    {
      "cell_type": "code",
      "metadata": {
        "colab": {
          "base_uri": "https://localhost:8080/"
        },
        "id": "1jiSqCv4TwtD",
        "outputId": "b067fb6f-c3af-4f95-8747-cde03e1c99da"
      },
      "source": [
        "from sklearn.metrics import classification_report, confusion_matrix\n",
        "print(confusion_matrix(y_test, y_pred))\n",
        "print(classification_report(y_test, y_pred))"
      ],
      "execution_count": null,
      "outputs": [
        {
          "output_type": "stream",
          "name": "stdout",
          "text": [
            "[[  0   0   0   0   0   0  49   0   0]\n",
            " [  0   0   0   0   0   0  26   0   0]\n",
            " [  0   0  10   0   0   0   0   0   0]\n",
            " [  0   0   0  81   0   1  35   0   0]\n",
            " [  0   0   0   1   0   1   0   0   0]\n",
            " [  0   0   0   2   0  38   0   0   0]\n",
            " [  0   0   0   0   0   0 178   0   0]\n",
            " [  0   0   0   6   0   0   2   0   0]\n",
            " [  0   0   0   0   0   0   9   0   0]]\n",
            "                             precision    recall  f1-score   support\n",
            "\n",
            "             Clear or Sunny       0.00      0.00      0.00        49\n",
            "                     Cloudy       0.00      0.00      0.00        26\n",
            "                 Heavy Rain       1.00      1.00      1.00        10\n",
            "                 Light Rain       0.90      0.69      0.78       117\n",
            "              Moderate Rain       0.00      0.00      0.00         2\n",
            "     Moderate or Heavy Rain       0.95      0.95      0.95        40\n",
            "              Partly Cloudy       0.60      1.00      0.75       178\n",
            "              Thundershower       0.00      0.00      0.00         8\n",
            "Thundery Outbreaks Possible       0.00      0.00      0.00         9\n",
            "\n",
            "                   accuracy                           0.70       439\n",
            "                  macro avg       0.38      0.40      0.39       439\n",
            "               weighted avg       0.59      0.70      0.62       439\n",
            "\n"
          ]
        },
        {
          "output_type": "stream",
          "name": "stderr",
          "text": [
            "/usr/local/lib/python3.7/dist-packages/sklearn/metrics/_classification.py:1272: UndefinedMetricWarning:\n",
            "\n",
            "Precision and F-score are ill-defined and being set to 0.0 in labels with no predicted samples. Use `zero_division` parameter to control this behavior.\n",
            "\n"
          ]
        }
      ]
    }
  ]
}